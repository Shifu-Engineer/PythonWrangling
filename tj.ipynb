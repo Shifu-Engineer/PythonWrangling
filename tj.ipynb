{
 "cells": [
  {
   "cell_type": "code",
   "execution_count": 94,
   "metadata": {
    "scrolled": true
   },
   "outputs": [],
   "source": [
    "import matplotlib.pyplot as plt\n",
    "import pandas as pd\n",
    "import numpy as np\n",
    "\n",
    "data_set = pd.read_csv('./Downloads/API_ILO_country_YU.csv')"
   ]
  },
  {
   "cell_type": "code",
   "execution_count": 95,
   "metadata": {
    "scrolled": true
   },
   "outputs": [
    {
     "data": {
      "text/html": [
       "<div>\n",
       "<style scoped>\n",
       "    .dataframe tbody tr th:only-of-type {\n",
       "        vertical-align: middle;\n",
       "    }\n",
       "\n",
       "    .dataframe tbody tr th {\n",
       "        vertical-align: top;\n",
       "    }\n",
       "\n",
       "    .dataframe thead th {\n",
       "        text-align: right;\n",
       "    }\n",
       "</style>\n",
       "<table border=\"1\" class=\"dataframe\">\n",
       "  <thead>\n",
       "    <tr style=\"text-align: right;\">\n",
       "      <th></th>\n",
       "      <th>Country Name</th>\n",
       "      <th>Country Code</th>\n",
       "      <th>2010</th>\n",
       "      <th>2011</th>\n",
       "      <th>2012</th>\n",
       "      <th>2013</th>\n",
       "      <th>2014</th>\n",
       "    </tr>\n",
       "  </thead>\n",
       "  <tbody>\n",
       "    <tr>\n",
       "      <td>0</td>\n",
       "      <td>Afghanistan</td>\n",
       "      <td>AFG</td>\n",
       "      <td>20.600000</td>\n",
       "      <td>20.900000</td>\n",
       "      <td>19.700001</td>\n",
       "      <td>21.100000</td>\n",
       "      <td>20.799999</td>\n",
       "    </tr>\n",
       "    <tr>\n",
       "      <td>1</td>\n",
       "      <td>Angola</td>\n",
       "      <td>AGO</td>\n",
       "      <td>10.800000</td>\n",
       "      <td>10.700000</td>\n",
       "      <td>10.700000</td>\n",
       "      <td>10.600000</td>\n",
       "      <td>10.500000</td>\n",
       "    </tr>\n",
       "    <tr>\n",
       "      <td>2</td>\n",
       "      <td>Albania</td>\n",
       "      <td>ALB</td>\n",
       "      <td>25.799999</td>\n",
       "      <td>27.000000</td>\n",
       "      <td>28.299999</td>\n",
       "      <td>28.700001</td>\n",
       "      <td>29.200001</td>\n",
       "    </tr>\n",
       "    <tr>\n",
       "      <td>3</td>\n",
       "      <td>Arab World</td>\n",
       "      <td>ARB</td>\n",
       "      <td>25.022214</td>\n",
       "      <td>28.117516</td>\n",
       "      <td>29.113212</td>\n",
       "      <td>29.335306</td>\n",
       "      <td>29.704569</td>\n",
       "    </tr>\n",
       "    <tr>\n",
       "      <td>4</td>\n",
       "      <td>United Arab Emirates</td>\n",
       "      <td>ARE</td>\n",
       "      <td>9.800000</td>\n",
       "      <td>9.800000</td>\n",
       "      <td>9.800000</td>\n",
       "      <td>9.900000</td>\n",
       "      <td>10.000000</td>\n",
       "    </tr>\n",
       "  </tbody>\n",
       "</table>\n",
       "</div>"
      ],
      "text/plain": [
       "           Country Name Country Code       2010       2011       2012  \\\n",
       "0           Afghanistan          AFG  20.600000  20.900000  19.700001   \n",
       "1                Angola          AGO  10.800000  10.700000  10.700000   \n",
       "2               Albania          ALB  25.799999  27.000000  28.299999   \n",
       "3            Arab World          ARB  25.022214  28.117516  29.113212   \n",
       "4  United Arab Emirates          ARE   9.800000   9.800000   9.800000   \n",
       "\n",
       "        2013       2014  \n",
       "0  21.100000  20.799999  \n",
       "1  10.600000  10.500000  \n",
       "2  28.700001  29.200001  \n",
       "3  29.335306  29.704569  \n",
       "4   9.900000  10.000000  "
      ]
     },
     "execution_count": 95,
     "metadata": {},
     "output_type": "execute_result"
    }
   ],
   "source": [
    "data_set.head()"
   ]
  },
  {
   "cell_type": "code",
   "execution_count": 96,
   "metadata": {
    "scrolled": true
   },
   "outputs": [
    {
     "data": {
      "text/plain": [
       "Index(['Country Name', 'Country Code', '2010', '2011', '2012', '2013', '2014'], dtype='object')"
      ]
     },
     "execution_count": 96,
     "metadata": {},
     "output_type": "execute_result"
    }
   ],
   "source": [
    "data_set.columns"
   ]
  },
  {
   "cell_type": "code",
   "execution_count": null,
   "metadata": {},
   "outputs": [],
   "source": []
  },
  {
   "cell_type": "code",
   "execution_count": null,
   "metadata": {
    "scrolled": true
   },
   "outputs": [],
   "source": []
  },
  {
   "cell_type": "code",
   "execution_count": null,
   "metadata": {
    "scrolled": true
   },
   "outputs": [],
   "source": []
  },
  {
   "cell_type": "code",
   "execution_count": 97,
   "metadata": {
    "scrolled": false
   },
   "outputs": [
    {
     "data": {
      "text/html": [
       "<div>\n",
       "<style scoped>\n",
       "    .dataframe tbody tr th:only-of-type {\n",
       "        vertical-align: middle;\n",
       "    }\n",
       "\n",
       "    .dataframe tbody tr th {\n",
       "        vertical-align: top;\n",
       "    }\n",
       "\n",
       "    .dataframe thead th {\n",
       "        text-align: right;\n",
       "    }\n",
       "</style>\n",
       "<table border=\"1\" class=\"dataframe\">\n",
       "  <thead>\n",
       "    <tr style=\"text-align: right;\">\n",
       "      <th></th>\n",
       "      <th>Country Name</th>\n",
       "      <th>Country Code</th>\n",
       "      <th>2010</th>\n",
       "      <th>2011</th>\n",
       "      <th>2012</th>\n",
       "      <th>2013</th>\n",
       "      <th>2014</th>\n",
       "      <th>avg</th>\n",
       "    </tr>\n",
       "  </thead>\n",
       "  <tbody>\n",
       "    <tr>\n",
       "      <td>0</td>\n",
       "      <td>Afghanistan</td>\n",
       "      <td>AFG</td>\n",
       "      <td>20.600000</td>\n",
       "      <td>20.900000</td>\n",
       "      <td>19.700001</td>\n",
       "      <td>21.100000</td>\n",
       "      <td>20.799999</td>\n",
       "      <td>20.620000</td>\n",
       "    </tr>\n",
       "    <tr>\n",
       "      <td>1</td>\n",
       "      <td>Angola</td>\n",
       "      <td>AGO</td>\n",
       "      <td>10.800000</td>\n",
       "      <td>10.700000</td>\n",
       "      <td>10.700000</td>\n",
       "      <td>10.600000</td>\n",
       "      <td>10.500000</td>\n",
       "      <td>10.660000</td>\n",
       "    </tr>\n",
       "    <tr>\n",
       "      <td>2</td>\n",
       "      <td>Albania</td>\n",
       "      <td>ALB</td>\n",
       "      <td>25.799999</td>\n",
       "      <td>27.000000</td>\n",
       "      <td>28.299999</td>\n",
       "      <td>28.700001</td>\n",
       "      <td>29.200001</td>\n",
       "      <td>27.800000</td>\n",
       "    </tr>\n",
       "    <tr>\n",
       "      <td>3</td>\n",
       "      <td>Arab World</td>\n",
       "      <td>ARB</td>\n",
       "      <td>25.022214</td>\n",
       "      <td>28.117516</td>\n",
       "      <td>29.113212</td>\n",
       "      <td>29.335306</td>\n",
       "      <td>29.704569</td>\n",
       "      <td>28.258563</td>\n",
       "    </tr>\n",
       "    <tr>\n",
       "      <td>4</td>\n",
       "      <td>United Arab Emirates</td>\n",
       "      <td>ARE</td>\n",
       "      <td>9.800000</td>\n",
       "      <td>9.800000</td>\n",
       "      <td>9.800000</td>\n",
       "      <td>9.900000</td>\n",
       "      <td>10.000000</td>\n",
       "      <td>9.860000</td>\n",
       "    </tr>\n",
       "    <tr>\n",
       "      <td>...</td>\n",
       "      <td>...</td>\n",
       "      <td>...</td>\n",
       "      <td>...</td>\n",
       "      <td>...</td>\n",
       "      <td>...</td>\n",
       "      <td>...</td>\n",
       "      <td>...</td>\n",
       "      <td>...</td>\n",
       "    </tr>\n",
       "    <tr>\n",
       "      <td>214</td>\n",
       "      <td>Yemen, Rep.</td>\n",
       "      <td>YEM</td>\n",
       "      <td>30.299999</td>\n",
       "      <td>30.000000</td>\n",
       "      <td>30.200001</td>\n",
       "      <td>30.200001</td>\n",
       "      <td>29.900000</td>\n",
       "      <td>30.120000</td>\n",
       "    </tr>\n",
       "    <tr>\n",
       "      <td>215</td>\n",
       "      <td>South Africa</td>\n",
       "      <td>ZAF</td>\n",
       "      <td>50.799999</td>\n",
       "      <td>50.099998</td>\n",
       "      <td>52.200001</td>\n",
       "      <td>51.400002</td>\n",
       "      <td>52.599998</td>\n",
       "      <td>51.420000</td>\n",
       "    </tr>\n",
       "    <tr>\n",
       "      <td>216</td>\n",
       "      <td>Congo, Dem. Rep.</td>\n",
       "      <td>COD</td>\n",
       "      <td>12.300000</td>\n",
       "      <td>12.300000</td>\n",
       "      <td>12.300000</td>\n",
       "      <td>12.200000</td>\n",
       "      <td>11.900000</td>\n",
       "      <td>12.200000</td>\n",
       "    </tr>\n",
       "    <tr>\n",
       "      <td>217</td>\n",
       "      <td>Zambia</td>\n",
       "      <td>ZMB</td>\n",
       "      <td>26.400000</td>\n",
       "      <td>26.600000</td>\n",
       "      <td>26.600000</td>\n",
       "      <td>25.500000</td>\n",
       "      <td>25.100000</td>\n",
       "      <td>26.040000</td>\n",
       "    </tr>\n",
       "    <tr>\n",
       "      <td>218</td>\n",
       "      <td>Zimbabwe</td>\n",
       "      <td>ZWE</td>\n",
       "      <td>9.600000</td>\n",
       "      <td>8.300000</td>\n",
       "      <td>8.300000</td>\n",
       "      <td>8.900000</td>\n",
       "      <td>9.400000</td>\n",
       "      <td>8.900000</td>\n",
       "    </tr>\n",
       "  </tbody>\n",
       "</table>\n",
       "<p>219 rows × 8 columns</p>\n",
       "</div>"
      ],
      "text/plain": [
       "             Country Name Country Code       2010       2011       2012  \\\n",
       "0             Afghanistan          AFG  20.600000  20.900000  19.700001   \n",
       "1                  Angola          AGO  10.800000  10.700000  10.700000   \n",
       "2                 Albania          ALB  25.799999  27.000000  28.299999   \n",
       "3              Arab World          ARB  25.022214  28.117516  29.113212   \n",
       "4    United Arab Emirates          ARE   9.800000   9.800000   9.800000   \n",
       "..                    ...          ...        ...        ...        ...   \n",
       "214           Yemen, Rep.          YEM  30.299999  30.000000  30.200001   \n",
       "215          South Africa          ZAF  50.799999  50.099998  52.200001   \n",
       "216      Congo, Dem. Rep.          COD  12.300000  12.300000  12.300000   \n",
       "217                Zambia          ZMB  26.400000  26.600000  26.600000   \n",
       "218              Zimbabwe          ZWE   9.600000   8.300000   8.300000   \n",
       "\n",
       "          2013       2014        avg  \n",
       "0    21.100000  20.799999  20.620000  \n",
       "1    10.600000  10.500000  10.660000  \n",
       "2    28.700001  29.200001  27.800000  \n",
       "3    29.335306  29.704569  28.258563  \n",
       "4     9.900000  10.000000   9.860000  \n",
       "..         ...        ...        ...  \n",
       "214  30.200001  29.900000  30.120000  \n",
       "215  51.400002  52.599998  51.420000  \n",
       "216  12.200000  11.900000  12.200000  \n",
       "217  25.500000  25.100000  26.040000  \n",
       "218   8.900000   9.400000   8.900000  \n",
       "\n",
       "[219 rows x 8 columns]"
      ]
     },
     "execution_count": 97,
     "metadata": {},
     "output_type": "execute_result"
    }
   ],
   "source": [
    "data_set['avg'] = data_set.mean(axis=1)\n",
    "data_set"
   ]
  },
  {
   "cell_type": "code",
   "execution_count": null,
   "metadata": {
    "scrolled": true
   },
   "outputs": [],
   "source": []
  },
  {
   "cell_type": "code",
   "execution_count": 98,
   "metadata": {
    "scrolled": true
   },
   "outputs": [],
   "source": [
    "# ax = data_set.head()[['Country Name', 'avg']].plot(kind='bar', title =\"unemployment rate\",figsize=(15,10),legend=True, fontsize=12)\n",
    "# ax.set_xlabel(\"Country\",fontsize=12)\n",
    "# ax.set_ylabel(\"avg\",fontsize=12)"
   ]
  },
  {
   "cell_type": "code",
   "execution_count": 99,
   "metadata": {
    "scrolled": true
   },
   "outputs": [
    {
     "data": {
      "image/png": "[encoded data removed]",
      "text/plain": [
       "<Figure size 432x288 with 1 Axes>"
      ]
     },
     "metadata": {
      "needs_background": "light"
     },
     "output_type": "display_data"
    }
   ],
   "source": [
    "plt.bar(data_set.head()['Country Name'], data_set.head()['avg'], color='green')\n",
    "plt.xlabel(\"Countries\")\n",
    "plt.ylabel(\"Average data\")\n",
    "plt.title(\"Average Unemployment data from 2010 - 2014\")\n",
    "\n",
    "\n",
    "plt.show()"
   ]
  },
  {
   "cell_type": "code",
   "execution_count": 100,
   "metadata": {},
   "outputs": [
    {
     "data": {
      "image/png": "[encoded data removed]",
      "text/plain": [
       "<Figure size 432x288 with 1 Axes>"
      ]
     },
     "metadata": {
      "needs_background": "light"
     },
     "output_type": "display_data"
    }
   ],
   "source": [
    "plt.scatter(data_set.head()['Country Name'], data_set.head()['avg'])\n",
    "plt.show() "
   ]
  },
  {
   "cell_type": "code",
   "execution_count": 101,
   "metadata": {},
   "outputs": [
    {
     "data": {
      "image/png": "[encoded data removed]",
      "text/plain": [
       "<Figure size 432x288 with 1 Axes>"
      ]
     },
     "metadata": {
      "needs_background": "light"
     },
     "output_type": "display_data"
    }
   ],
   "source": [
    "plt.plot(data_set.head()['Country Name'], data_set.head()['avg'])\n",
    "plt.show()"
   ]
  },
  {
   "cell_type": "code",
   "execution_count": null,
   "metadata": {},
   "outputs": [],
   "source": []
  }
 ],
 "metadata": {
  "kernelspec": {
   "display_name": "Python 3",
   "language": "python",
   "name": "python3"
  },
  "language_info": {
   "codemirror_mode": {
    "name": "ipython",
    "version": 3
   },
   "file_extension": ".py",
   "mimetype": "text/x-python",
   "name": "python",
   "nbconvert_exporter": "python",
   "pygments_lexer": "ipython3",
   "version": "3.7.4"
  }
 },
 "nbformat": 4,
 "nbformat_minor": 2
}
